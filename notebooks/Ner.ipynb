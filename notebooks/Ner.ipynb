{
 "cells": [
  {
   "cell_type": "code",
   "execution_count": 3,
   "metadata": {},
   "outputs": [
    {
     "name": "stderr",
     "output_type": "stream",
     "text": [
      "c:\\Users\\AnthonyWynne\\code_workspace\\text_ner\\venv\\lib\\site-packages\\tqdm\\auto.py:22: TqdmWarning: IProgress not found. Please update jupyter and ipywidgets. See https://ipywidgets.readthedocs.io/en/stable/user_install.html\n",
      "  from .autonotebook import tqdm as notebook_tqdm\n"
     ]
    }
   ],
   "source": [
    "import torch\n",
    "import json \n",
    "import glob\n",
    "# import tqdm\n",
    "import pandas as pd\n",
    "from transformers import AutoTokenizer, AutoModelForTokenClassification\n",
    "from transformers import pipeline"
   ]
  },
  {
   "cell_type": "code",
   "execution_count": 4,
   "metadata": {},
   "outputs": [],
   "source": [
    "model = AutoModelForTokenClassification.from_pretrained('dslim/bert-base-NER')\n",
    "tokenizer = AutoTokenizer.from_pretrained('dslim/bert-base-NER')\n",
    "\n",
    "device = torch.device(\"cuda\" if torch.cuda.is_available() else \"cpu\")"
   ]
  },
  {
   "cell_type": "code",
   "execution_count": 8,
   "metadata": {},
   "outputs": [],
   "source": [
    "nlp = pipeline(\n",
    "    'ner',\n",
    "    model=model,\n",
    "    tokenizer=tokenizer,\n",
    "    device=device,\n",
    "    aggregation_strategy='first')\n",
    "    # first works better than simple or the default"
   ]
  },
  {
   "cell_type": "code",
   "execution_count": 9,
   "metadata": {},
   "outputs": [
    {
     "name": "stdout",
     "output_type": "stream",
     "text": [
      "[{'entity_group': 'ORG', 'score': 0.6306363, 'word': 'Liege', 'start': 214, 'end': 219}, {'entity_group': 'ORG', 'score': 0.768787, 'word': 'Bastogne', 'start': 220, 'end': 228}, {'entity_group': 'ORG', 'score': 0.49957347, 'word': 'Liege', 'start': 229, 'end': 234}, {'entity_group': 'PER', 'score': 0.9997057, 'word': 'Bernard Hinault', 'start': 340, 'end': 355}, {'entity_group': 'LOC', 'score': 0.63819337, 'word': 'Ardennes', 'start': 643, 'end': 651}, {'entity_group': 'MISC', 'score': 0.9159621, 'word': 'La Doyenne', 'start': 695, 'end': 705}, {'entity_group': 'PER', 'score': 0.99575186, 'word': 'Hinault', 'start': 1002, 'end': 1009}, {'entity_group': 'LOC', 'score': 0.54830253, 'word': 'Liege', 'start': 1079, 'end': 1084}, {'entity_group': 'LOC', 'score': 0.8442254, 'word': 'Bastogne', 'start': 1085, 'end': 1093}, {'entity_group': 'LOC', 'score': 0.91898054, 'word': 'Liege', 'start': 1094, 'end': 1099}, {'entity_group': 'PER', 'score': 0.9993431, 'word': 'Hinault', 'start': 1213, 'end': 1220}, {'entity_group': 'MISC', 'score': 0.998478, 'word': 'Tour de France', 'start': 1252, 'end': 1266}, {'entity_group': 'MISC', 'score': 0.9970106, 'word': 'Tour', 'start': 1376, 'end': 1380}, {'entity_group': 'MISC', 'score': 0.9721497, 'word': 'Monument', 'start': 1540, 'end': 1548}, {'entity_group': 'LOC', 'score': 0.82877845, 'word': 'Liege', 'start': 1576, 'end': 1581}, {'entity_group': 'LOC', 'score': 0.9730473, 'word': 'Bastogne', 'start': 1582, 'end': 1590}, {'entity_group': 'LOC', 'score': 0.9646551, 'word': 'Liege', 'start': 1591, 'end': 1596}, {'entity_group': 'LOC', 'score': 0.99203074, 'word': 'Belgium', 'start': 1693, 'end': 1700}]\n"
     ]
    }
   ],
   "source": [
    "# small test\n",
    "text = \"\"\"The oversized snowflakes fell softly and silently, settling among the pines like a picturesque Christmas scene.\n",
    "By the roadside, spectators in heavy winter coats watched team cars and motorbikes struggle up one of Liege-Bastogne-Liege's countless climbs, tyres spinning in the slush as they pursued one man on a bike.\n",
    "It was April 1980 and Bernard Hinault, almost unrecognisable beneath a big red balaclava, slewed doggedly on, further into the lead, somehow remaining balanced on the two wheels beneath him.\n",
    "He was under such physical strain that he would do himself permanent damage. Pushing his body to its very limit, he raced through the Ardennes in search of victory in the race known as 'La Doyenne' - the old lady.\n",
    "So bad were the conditions that several of cycling's best riders collected their number from organisers and then never lined up.\n",
    "After just 70km of the 244km one-day race, 110 of the 174 entrants were already holed up in a hotel by the finish line. Only 21 completed the course. Hinault suffered frostbite.\n",
    "Rarely do you see such attrition in cycling, but Liege-Bastogne-Liege, which celebrates its 130th birthday on Sunday, has been making and breaking the toughest competitors for years.\n",
    "Hinault was 25. He had already won the Tour de France twice and would go on to win it a further three times, an icon of his sport in the making. His total of five Tour victories remains a joint record.\n",
    "But this was a different challenge - a long way from the searing heat and sunflowers of summer.\n",
    "One of the five prestigious 'Monument' one-day races in cycling, Liege-Bastogne-Liege is celebrated by many for being the very antithesis of the Tour.\n",
    "In the hills of east and south Belgium the peloton is stretched through thick, damp forest, over short, sharp climbs and across tricky, part-cobbled sections before landing back where it all began in Liege.\n",
    "\"[The race is] already hard, it's long, and when I won it was in very tough conditions, especially the snow,\" says Hinault, now aged 67.\n",
    "\"Yes, I considered quitting if the weather conditions persisted. We started having difficulties. It's difficult in Liege-Bastogne-Liege.\"\n",
    "Hinault's account of one of his greatest triumphs is characteristically taciturn. Tough conditions is a severe understatement. And in the racing he didn't have it all his own way, either.\n",
    "With around 91km to go, approaching the 500m Stockeu climb, Rudy Pevenage was two minutes 15 seconds ahead of Hinault and a small chasing group.\n",
    "Pevenage was one of the hard men of the spring classics. He was a Belgian with a big lead, in conditions many locals would feel only a Belgian could master.\n",
    "But even he did not finish a race that truly separated the men from the legends. 'Neige-Bastogne-Neige,' as it would be dubbed.\n",
    "On the next climb, a 500m ascent of the Haute Levee, Hinault and a small number of fellow pursuers caught up with Pevenage. Then Hinault launched his attack, bright red balaclava and thick blue gloves disappearing into the distance as his stunning acceleration left everybody behind.\n",
    "There were still 80km to go.\n",
    "\"\"\"\n",
    "ner_results = nlp(text)\n",
    "print(ner_results)"
   ]
  },
  {
   "cell_type": "code",
   "execution_count": 10,
   "metadata": {},
   "outputs": [
    {
     "data": {
      "text/html": [
       "<div>\n",
       "<style scoped>\n",
       "    .dataframe tbody tr th:only-of-type {\n",
       "        vertical-align: middle;\n",
       "    }\n",
       "\n",
       "    .dataframe tbody tr th {\n",
       "        vertical-align: top;\n",
       "    }\n",
       "\n",
       "    .dataframe thead th {\n",
       "        text-align: right;\n",
       "    }\n",
       "</style>\n",
       "<table border=\"1\" class=\"dataframe\">\n",
       "  <thead>\n",
       "    <tr style=\"text-align: right;\">\n",
       "      <th></th>\n",
       "      <th>entity_group</th>\n",
       "      <th>score</th>\n",
       "      <th>word</th>\n",
       "      <th>start</th>\n",
       "      <th>end</th>\n",
       "    </tr>\n",
       "  </thead>\n",
       "  <tbody>\n",
       "    <tr>\n",
       "      <th>0</th>\n",
       "      <td>ORG</td>\n",
       "      <td>0.630636</td>\n",
       "      <td>Liege</td>\n",
       "      <td>214</td>\n",
       "      <td>219</td>\n",
       "    </tr>\n",
       "    <tr>\n",
       "      <th>1</th>\n",
       "      <td>ORG</td>\n",
       "      <td>0.768787</td>\n",
       "      <td>Bastogne</td>\n",
       "      <td>220</td>\n",
       "      <td>228</td>\n",
       "    </tr>\n",
       "    <tr>\n",
       "      <th>2</th>\n",
       "      <td>ORG</td>\n",
       "      <td>0.499573</td>\n",
       "      <td>Liege</td>\n",
       "      <td>229</td>\n",
       "      <td>234</td>\n",
       "    </tr>\n",
       "    <tr>\n",
       "      <th>3</th>\n",
       "      <td>PER</td>\n",
       "      <td>0.999706</td>\n",
       "      <td>Bernard Hinault</td>\n",
       "      <td>340</td>\n",
       "      <td>355</td>\n",
       "    </tr>\n",
       "    <tr>\n",
       "      <th>4</th>\n",
       "      <td>LOC</td>\n",
       "      <td>0.638193</td>\n",
       "      <td>Ardennes</td>\n",
       "      <td>643</td>\n",
       "      <td>651</td>\n",
       "    </tr>\n",
       "  </tbody>\n",
       "</table>\n",
       "</div>"
      ],
      "text/plain": [
       "  entity_group     score             word  start  end\n",
       "0          ORG  0.630636            Liege    214  219\n",
       "1          ORG  0.768787         Bastogne    220  228\n",
       "2          ORG  0.499573            Liege    229  234\n",
       "3          PER  0.999706  Bernard Hinault    340  355\n",
       "4          LOC  0.638193         Ardennes    643  651"
      ]
     },
     "execution_count": 10,
     "metadata": {},
     "output_type": "execute_result"
    }
   ],
   "source": [
    "# convert ner_results to dataframe\n",
    "df = pd.DataFrame(ner_results)\n",
    "df.head()"
   ]
  },
  {
   "cell_type": "code",
   "execution_count": 10,
   "metadata": {},
   "outputs": [
    {
     "data": {
      "text/plain": [
       "('../models/dslim/bert-base-NER\\\\tokenizer_config.json',\n",
       " '../models/dslim/bert-base-NER\\\\special_tokens_map.json',\n",
       " '../models/dslim/bert-base-NER\\\\vocab.txt',\n",
       " '../models/dslim/bert-base-NER\\\\added_tokens.json',\n",
       " '../models/dslim/bert-base-NER\\\\tokenizer.json')"
      ]
     },
     "execution_count": 10,
     "metadata": {},
     "output_type": "execute_result"
    }
   ],
   "source": [
    "# save the model \n",
    "model.save_pretrained(\"../models/dslim/bert-base-NER\")\n",
    "# # save the tokenizer\n",
    "tokenizer.save_pretrained(\"../models/dslim/bert-base-NER\")\n"
   ]
  },
  {
   "cell_type": "code",
   "execution_count": null,
   "metadata": {},
   "outputs": [],
   "source": []
  }
 ],
 "metadata": {
  "kernelspec": {
   "display_name": "venv",
   "language": "python",
   "name": "python3"
  },
  "language_info": {
   "codemirror_mode": {
    "name": "ipython",
    "version": 3
   },
   "file_extension": ".py",
   "mimetype": "text/x-python",
   "name": "python",
   "nbconvert_exporter": "python",
   "pygments_lexer": "ipython3",
   "version": "3.9.7 (tags/v3.9.7:1016ef3, Aug 30 2021, 20:19:38) [MSC v.1929 64 bit (AMD64)]"
  },
  "orig_nbformat": 4,
  "vscode": {
   "interpreter": {
    "hash": "3d96cd231e6da8a1e1fbae5dfd353a05c9f4657b6e966314bc3251d36aad23d7"
   }
  }
 },
 "nbformat": 4,
 "nbformat_minor": 2
}
